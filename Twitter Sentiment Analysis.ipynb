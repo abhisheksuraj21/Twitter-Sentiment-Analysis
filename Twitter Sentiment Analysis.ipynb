{
 "cells": [
  {
   "cell_type": "markdown",
   "metadata": {},
   "source": [
    "# Twitter Sentiment Analysis "
   ]
  },
  {
   "cell_type": "code",
   "execution_count": 1,
   "metadata": {},
   "outputs": [],
   "source": [
    "#Import Libraries\n",
    "import tweepy\n",
    "from textblob import TextBlob"
   ]
  },
  {
   "cell_type": "code",
   "execution_count": 3,
   "metadata": {},
   "outputs": [],
   "source": [
    "#Twitter Authentication\n",
    "consumer_key = 'etwPkyHUQo4WI5uCjqp6gx9do'\n",
    "consumer_secret = 'J1ZcREL4Ebe23Yctgz1OeejTvDKVkStQ9ho0fHlvtijWHTsR0u'\n",
    "access_token = '1131431853808685056-V9AmunQ8iXLtVSoqdP9zv8coS2OGRL'\n",
    "access_token_secret = '3ijkp3wZGnLLWYwCBYxzKAhmab30jQ7VTjTfBghLOuXqH'\n",
    "auth = tweepy.OAuthHandler(consumer_key,consumer_secret)\n",
    "auth.set_access_token(access_token, access_token_secret)"
   ]
  },
  {
   "cell_type": "code",
   "execution_count": 4,
   "metadata": {},
   "outputs": [],
   "source": [
    "#Reading data from twitter\n",
    "api = tweepy.API(auth)\n",
    "#Let's search for tweets involving Donald trump\n",
    "public_tweets = api.search('Donald Trump')"
   ]
  },
  {
   "cell_type": "code",
   "execution_count": 9,
   "metadata": {},
   "outputs": [
    {
     "name": "stdout",
     "output_type": "stream",
     "text": [
      "RT @BhavikaKapoor5: Donald Trump Tests Negative for Coronavirus after White House Military Aide Reports Infection https://t.co/c9enP0DigS\n",
      "RT @BILD: Klare Ansage an China - Trump: Corona ist schlimmer als 9/11 und Pearl Harbor https://t.co/JCg62KKd6x\n",
      "RT @RossBarkan: It's a dark lesson for future executives. You can be as incompetent as you want to be, as long as your performance pleases…\n",
      "RT @BrennerABarrios: Yo prefiero creer en lo que dice Donald Trump, James Story, Mike Pompeo, Elliots Abraham y Juan Guaidó que creerle a P…\n",
      "RT @palmeriodoria: Donald Trump levou uma  patada no crânio. Caiu-lhe a peruca quando soube que o começo da Covid-19 foi localizado no fim…\n",
      "RT @WalshFreedom: If you’re angry about what Donald Trump &amp; Bill Barr just did, then you better get off your ass this November and vote.\n",
      "RT @renato_mariotti: No, it’s worse than that.\n",
      "\n",
      "The DOJ doesn’t care if you lie to the FBI ... as long as you’re Donald Trump‘s friend.\n",
      "\n",
      "Ev…\n",
      "RT @WalshFreedom: If you’re angry about what Donald Trump &amp; Bill Barr just did, then you better get off your ass this November and vote.\n",
      "RT @WalshFreedom: If you’re angry about what Donald Trump &amp; Bill Barr just did, then you better get off your ass this November and vote.\n",
      "RT @celebritykimdot: 🔥 #Celebs #coronavirus Donald Trump says coronavirus vaccine will be ready by end of 2020 https://t.co/CnkGmFebWq\n",
      "RT @BrennerABarrios: Yo prefiero creer en lo que dice Donald Trump, James Story, Mike Pompeo, Elliots Abraham y Juan Guaidó que creerle a P…\n",
      "RT @kenolin1: Our Attorney General is a criminal. Instead of great, Donald Trump is making America a third world oligarchy. And make no mis…\n",
      "RT @C_3C_3: Whenever someone whines to you about “Trump being mean to the Media or tweeting mean things about the Media.”\n",
      "\n",
      "Let them know th…\n",
      "RT @CherokeeOwl: 🇺🇸❤️🇺🇸❤️🇺🇸❤️🇺🇸❤️🇺🇸❤️\n",
      "America\n",
      "\n",
      "Home of The Brave\n",
      "Land of the Free \n",
      "RT if you want it to Stay That Way!\n",
      "\n",
      "God Bless The USA\n",
      "G…\n",
      "RT @kimmasters: “Donald Trump fears he would look ridiculous in a mask because he apparently does not know what he looks like without a mas…\n"
     ]
    }
   ],
   "source": [
    "#Printing the data read from twitter\n",
    "for tweet in public_tweets:\n",
    "    print(tweet.text)"
   ]
  },
  {
   "cell_type": "code",
   "execution_count": 11,
   "metadata": {},
   "outputs": [
    {
     "name": "stdout",
     "output_type": "stream",
     "text": [
      "Sentiment(polarity=-0.13333333333333333, subjectivity=0.16666666666666666)\n",
      "Sentiment(polarity=0.0, subjectivity=0.0)\n",
      "Sentiment(polarity=-0.1375, subjectivity=0.3229166666666667)\n",
      "Sentiment(polarity=0.0, subjectivity=0.0)\n",
      "Sentiment(polarity=0.0, subjectivity=0.0)\n",
      "Sentiment(polarity=0.0, subjectivity=0.75)\n",
      "Sentiment(polarity=-0.225, subjectivity=0.5)\n",
      "Sentiment(polarity=0.0, subjectivity=0.75)\n",
      "Sentiment(polarity=0.0, subjectivity=0.75)\n",
      "Sentiment(polarity=0.2, subjectivity=0.5)\n",
      "Sentiment(polarity=0.0, subjectivity=0.0)\n",
      "Sentiment(polarity=0.11250000000000002, subjectivity=0.45)\n",
      "Sentiment(polarity=-0.3125, subjectivity=0.6875)\n",
      "Sentiment(polarity=0.65, subjectivity=0.9)\n",
      "Sentiment(polarity=-0.14166666666666666, subjectivity=0.675)\n"
     ]
    }
   ],
   "source": [
    "#Performing Sentiment Analysis\n",
    "for tweet in public_tweets:\n",
    "    analysis = TextBlob(tweet.text)\n",
    "    type(analysis)\n",
    "    print(analysis.sentiment)"
   ]
  },
  {
   "cell_type": "markdown",
   "metadata": {},
   "source": [
    "This gives us the Polarity corresponding to each of the tweets. A polarity closer to 1 means <b>Positive</b> sentiment and polarity close to -1 means <b>Negative</b> sentiment. Polarity=0 indicates <b>Neutral</b> sentiment."
   ]
  }
 ],
 "metadata": {
  "kernelspec": {
   "display_name": "Python 3",
   "language": "python",
   "name": "python3"
  },
  "language_info": {
   "codemirror_mode": {
    "name": "ipython",
    "version": 3
   },
   "file_extension": ".py",
   "mimetype": "text/x-python",
   "name": "python",
   "nbconvert_exporter": "python",
   "pygments_lexer": "ipython3",
   "version": "3.7.6"
  }
 },
 "nbformat": 4,
 "nbformat_minor": 4
}
